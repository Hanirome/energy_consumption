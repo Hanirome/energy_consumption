{
 "cells": [
  {
   "cell_type": "code",
   "execution_count": 2,
   "id": "5714a1f5",
   "metadata": {},
   "outputs": [],
   "source": [
    "import tensorflow as tf\n",
    "import pandas as pd\n",
    "import numpy as np\n",
    "from tensorflow.keras.models import Sequential\n",
    "from tensorflow.keras.layers import LSTM, Dense\n",
    "from keras.models import Sequential \n",
    "from sklearn.preprocessing import MinMaxScaler\n",
    "from tensorflow import keras\n",
    "from tensorflow.keras import layers\n",
    "from keras.layers import Input, LSTM\n",
    "from sklearn.model_selection import train_test_split\n",
    "from sklearn.preprocessing import StandardScaler\n",
    "from matplotlib import pyplot as plt \n",
    "import seaborn as sns \n",
    "from datetime import datetime\n"
   ]
  },
  {
   "cell_type": "code",
   "execution_count": 20,
   "id": "a49e07f9",
   "metadata": {},
   "outputs": [],
   "source": [
    "# Define helper functions for data preprocessing\n",
    "def window_data(data, window_size):\n",
    "  start = 0\n",
    "  while start < len(data) - window_size:  # Ensure we don't go out of bounds\n",
    "    yield data[start:start+window_size+1]  # Include target value for prediction\n",
    "    start += 1\n",
    "\n",
    "def scale_data(data):\n",
    "  scaler = MinMaxScaler(feature_range=(0, 1))\n",
    "  return scaler.fit_transform(data.reshape(-1, 1))  # Reshape for scaler\n"
   ]
  },
  {
   "cell_type": "code",
   "execution_count": 30,
   "id": "7cf05f1c",
   "metadata": {},
   "outputs": [],
   "source": [
    "# Load the data\n",
    "# Load data\n",
    "column_names = {\n",
    "'Bill Doc No',\n",
    "'30/1/2012',\n",
    "'30/2/2012',\n",
    "'30/3/2012',\n",
    "'30/4/2012',\n",
    "'30/5/2012',\n",
    "'30/6/2012',\n",
    "'30/7/2012',\n",
    "'30/8/2012',\n",
    "'30/9/2012',\n",
    "'30/10/2012',\n",
    "'30/11/2012',\n",
    "'30/12/2012',\n",
    "'30/1/2013',\n",
    "'30/2/2013',\n",
    "'30/3/2013',\n",
    "'30/4/2013',\n",
    "'30/5/2013',\n",
    "'30/6/2013',\n",
    "'30/7/2013',\n",
    "'30/8/2013',\n",
    "'30/9/2013',\n",
    "'30/10/2013',\n",
    "'30/11/2013',\n",
    "'30/12/2013',\n",
    "'30/1/2014',\n",
    "'30/2/2014',\n",
    "'30/3/2014',\n",
    "'30/4/2014',\n",
    "'30/5/2014',\n",
    "'30/6/2014',\n",
    "'30/7/2014',\n",
    "'30/8/2014',\n",
    "'30/9/2014',\n",
    "'30/10/2014',\n",
    "'30/11/2014',\n",
    "'30/12/2014',\n",
    "'30/1/2015',\n",
    "'30/2/2015',\n",
    "'30/3/2015',\n",
    "'30/4/2015',\n",
    "'30/5/2015',\n",
    "'30/6/2015',\n",
    "'30/7/2015',\n",
    "'30/8/2015',\n",
    "'30/9/2015',\n",
    "'30/10/2015',\n",
    "'30/11/2015',\n",
    "'30/12/2015',\n",
    "}\n",
    "column_names_list = list(column_names)\n",
    "data = pd.read_csv(\"Clustring 0 for time series1.csv\", index_col=column_names_list[0], usecols=column_names_list, parse_dates=True, date_format=\"%d/%m/%Y\",)"
   ]
  },
  {
   "cell_type": "code",
   "execution_count": 22,
   "id": "c8098155",
   "metadata": {},
   "outputs": [],
   "source": [
    " # Extract time series data (assuming all 48 columns)\n",
    "time_series = data.iloc[:, :].values.reshape(-1, 1)  # Reshape for consistency"
   ]
  },
  {
   "cell_type": "code",
   "execution_count": 23,
   "id": "559ed02e",
   "metadata": {},
   "outputs": [],
   "source": [
    "scaled_data = scale_data(data.values.reshape(-1, 1))  # Extract data and reshape"
   ]
  },
  {
   "cell_type": "code",
   "execution_count": 24,
   "id": "d373e1cc",
   "metadata": {},
   "outputs": [],
   "source": [
    "# Prepare windowed training data\n",
    "windowed_data = []\n",
    "for customer_data in scaled_data:\n",
    "  for window in window_data(customer_data, window_size=48):\n",
    "    windowed_data.append(window)"
   ]
  },
  {
   "cell_type": "code",
   "execution_count": 25,
   "id": "9e68cde2",
   "metadata": {},
   "outputs": [],
   "source": [
    "# Convert to NumPy arrays for efficient processing\n",
    "windowed_data = np.array(windowed_data)"
   ]
  },
  {
   "cell_type": "code",
   "execution_count": 26,
   "id": "bcfe584a",
   "metadata": {},
   "outputs": [],
   "source": [
    "# Define window size\n",
    "window_size = 48  # 48 months of past history"
   ]
  },
  {
   "cell_type": "code",
   "execution_count": 29,
   "id": "021ebf60",
   "metadata": {},
   "outputs": [
    {
     "ename": "IndexError",
     "evalue": "too many indices for array: array is 1-dimensional, but 3 were indexed",
     "output_type": "error",
     "traceback": [
      "\u001b[1;31m---------------------------------------------------------------------------\u001b[0m",
      "\u001b[1;31mIndexError\u001b[0m                                Traceback (most recent call last)",
      "Cell \u001b[1;32mIn[29], line 4\u001b[0m\n\u001b[0;32m      2\u001b[0m mse \u001b[38;5;241m=\u001b[39m keras\u001b[38;5;241m.\u001b[39mlosses\u001b[38;5;241m.\u001b[39mMeanSquaredError()\n\u001b[0;32m      3\u001b[0m \u001b[38;5;66;03m# Separate features (past data) and target values (next month)\u001b[39;00m\n\u001b[1;32m----> 4\u001b[0m X \u001b[38;5;241m=\u001b[39m windowed_data[:, :\u001b[38;5;241m-\u001b[39m\u001b[38;5;241m1\u001b[39m, :]  \u001b[38;5;66;03m# Past data for prediction\u001b[39;00m\n\u001b[0;32m      5\u001b[0m y \u001b[38;5;241m=\u001b[39m windowed_data[:, \u001b[38;5;241m-\u001b[39m\u001b[38;5;241m1\u001b[39m, :]\n",
      "\u001b[1;31mIndexError\u001b[0m: too many indices for array: array is 1-dimensional, but 3 were indexed"
     ]
    }
   ],
   "source": [
    "# Define the loss function\n",
    "mse = keras.losses.MeanSquaredError()\n",
    "# Separate features (past data) and target values (next month)\n",
    "X = windowed_data[:, :-1, :]  # Past data for prediction\n",
    "y = windowed_data[:, -1, :]  # Target values to predict"
   ]
  },
  {
   "cell_type": "code",
   "execution_count": 28,
   "id": "95664dbf",
   "metadata": {},
   "outputs": [
    {
     "ename": "NameError",
     "evalue": "name 'model' is not defined",
     "output_type": "error",
     "traceback": [
      "\u001b[1;31m---------------------------------------------------------------------------\u001b[0m",
      "\u001b[1;31mNameError\u001b[0m                                 Traceback (most recent call last)",
      "Cell \u001b[1;32mIn[28], line 18\u001b[0m\n\u001b[0;32m     13\u001b[0m   \u001b[38;5;28;01mreturn\u001b[39;00m np\u001b[38;5;241m.\u001b[39mmean(squared_errors)  \u001b[38;5;66;03m# Calculate mean\u001b[39;00m\n\u001b[0;32m     15\u001b[0m \u001b[38;5;66;03m# ... rest of your code ...\u001b[39;00m\n\u001b[0;32m     16\u001b[0m \n\u001b[0;32m     17\u001b[0m \u001b[38;5;66;03m# Evaluate the model\u001b[39;00m\n\u001b[1;32m---> 18\u001b[0m predictions \u001b[38;5;241m=\u001b[39m model\u001b[38;5;241m.\u001b[39mpredict(test_data)\n\u001b[0;32m     19\u001b[0m mse_value \u001b[38;5;241m=\u001b[39m mean_squared_error(test_data, predictions)\n\u001b[0;32m     21\u001b[0m \u001b[38;5;28mprint\u001b[39m(\u001b[38;5;124m'\u001b[39m\u001b[38;5;124mMSE: \u001b[39m\u001b[38;5;124m'\u001b[39m, mse_value)\n",
      "\u001b[1;31mNameError\u001b[0m: name 'model' is not defined"
     ]
    }
   ],
   "source": [
    "def mean_squared_error(y_true, y_pred):\n",
    "  \"\"\"\n",
    "  Calculates the mean squared error between two arrays.\n",
    "\n",
    "  Args:\n",
    "      y_true: Ground truth values.\n",
    "      y_pred: Predicted values.\n",
    "\n",
    "  Returns:\n",
    "      The mean squared error.\n",
    "  \"\"\"\n",
    "  squared_errors = np.square(y_true - y_pred)\n",
    "  return np.mean(squared_errors)  # Calculate mean\n",
    "\n",
    "# ... rest of your code ...\n",
    "\n",
    "# Evaluate the model\n",
    "predictions = model.predict(test_data)\n",
    "mse_value = mean_squared_error(test_data, predictions)\n",
    "\n",
    "print('MSE: ', mse_value)"
   ]
  },
  {
   "cell_type": "code",
   "execution_count": null,
   "id": "104730cf",
   "metadata": {},
   "outputs": [],
   "source": []
  },
  {
   "cell_type": "code",
   "execution_count": null,
   "id": "5943733f",
   "metadata": {},
   "outputs": [],
   "source": []
  },
  {
   "cell_type": "code",
   "execution_count": null,
   "id": "ce67c130",
   "metadata": {},
   "outputs": [],
   "source": []
  },
  {
   "cell_type": "code",
   "execution_count": null,
   "id": "49823a10",
   "metadata": {},
   "outputs": [],
   "source": []
  },
  {
   "cell_type": "code",
   "execution_count": null,
   "id": "97645c38",
   "metadata": {},
   "outputs": [],
   "source": []
  },
  {
   "cell_type": "code",
   "execution_count": null,
   "id": "e477cc2a",
   "metadata": {},
   "outputs": [],
   "source": []
  },
  {
   "cell_type": "code",
   "execution_count": null,
   "id": "6da1cde0",
   "metadata": {},
   "outputs": [],
   "source": []
  },
  {
   "cell_type": "code",
   "execution_count": null,
   "id": "e5b661cd",
   "metadata": {},
   "outputs": [],
   "source": []
  },
  {
   "cell_type": "code",
   "execution_count": null,
   "id": "ae1e1106",
   "metadata": {},
   "outputs": [],
   "source": []
  },
  {
   "cell_type": "code",
   "execution_count": null,
   "id": "bbf9a59d",
   "metadata": {},
   "outputs": [],
   "source": []
  },
  {
   "cell_type": "code",
   "execution_count": null,
   "id": "d67afb7a",
   "metadata": {},
   "outputs": [],
   "source": []
  },
  {
   "cell_type": "code",
   "execution_count": null,
   "id": "e863d66a",
   "metadata": {},
   "outputs": [],
   "source": [
    "# Define window size\n",
    "window_size = 48  # 48 months of past history"
   ]
  },
  {
   "cell_type": "code",
   "execution_count": null,
   "id": "666f0b9d",
   "metadata": {},
   "outputs": [],
   "source": [
    "# Scale data (optional, but recommended)\n",
    "scaled_data = scale_data(data.values.reshape(-1, 1))  # Convert DataFrame to NumPy array and reshape\n"
   ]
  },
  {
   "cell_type": "code",
   "execution_count": null,
   "id": "46b29c52",
   "metadata": {},
   "outputs": [],
   "source": [
    "# Define helper functions for data preprocessing\n",
    "\n",
    "def window_data(data, window_size):\n",
    "  start = 0\n",
    "  while start < len(data) - window_size:\n",
    "    yield data[start:start+window_size+1]\n",
    "    start += 1\n",
    "\n",
    "def scale_data(data):\n",
    "  scaler = MinMaxScaler(feature_range=(0, 1))\n",
    "  return scaler.fit_transform(data)  # No reshape needed here"
   ]
  },
  {
   "cell_type": "code",
   "execution_count": null,
   "id": "abecb311",
   "metadata": {},
   "outputs": [],
   "source": [
    "# Prepare windowed training data\n",
    "windowed_data = []\n",
    "for customer_data in scaled_data:\n",
    "  for window in window_data(customer_data, window_size):\n",
    "    windowed_data.append(window)"
   ]
  },
  {
   "cell_type": "code",
   "execution_count": null,
   "id": "1b7c0213",
   "metadata": {},
   "outputs": [],
   "source": [
    "# Convert to NumPy arrays for efficient processing\n",
    "windowed_data = np.array(windowed_data)"
   ]
  },
  {
   "cell_type": "code",
   "execution_count": null,
   "id": "2b1cdd15",
   "metadata": {},
   "outputs": [],
   "source": [
    "# Reshape for LSTM input (samples, window_size, features)\n",
    "windowed_data = windowed_data.reshape(-1, window_size, 1)  # Add feature dimension\n"
   ]
  },
  {
   "cell_type": "code",
   "execution_count": null,
   "id": "de2b2214",
   "metadata": {},
   "outputs": [],
   "source": [
    "# Define the LSTM model (replace with your desired architecture)\n",
    "model = keras.Sequential([\n",
    "  keras.layers.LSTM(64, return_sequences=True, input_shape=(window_size, 1)),\n",
    "  keras.layers.LSTM(32),\n",
    "  keras.layers.Dense(1)  # Output layer for predicting next value\n",
    "])\n",
    "\n",
    "model.compile(loss='mse', optimizer='adam')\n"
   ]
  },
  {
   "cell_type": "code",
   "execution_count": null,
   "id": "e724adc4",
   "metadata": {},
   "outputs": [],
   "source": [
    "# Train the model\n",
    "model.fit(windowed_data[:, :-1, :], windowed_data[:, -1, :], epochs=100)  # Predict next value"
   ]
  },
  {
   "cell_type": "code",
   "execution_count": null,
   "id": "67e54edb",
   "metadata": {},
   "outputs": [],
   "source": []
  },
  {
   "cell_type": "code",
   "execution_count": null,
   "id": "d9f87c0b",
   "metadata": {},
   "outputs": [],
   "source": []
  },
  {
   "cell_type": "code",
   "execution_count": null,
   "id": "54ccc8aa",
   "metadata": {},
   "outputs": [],
   "source": []
  },
  {
   "cell_type": "code",
   "execution_count": null,
   "id": "0744c511",
   "metadata": {},
   "outputs": [],
   "source": []
  },
  {
   "cell_type": "code",
   "execution_count": null,
   "id": "404f6fef",
   "metadata": {},
   "outputs": [],
   "source": []
  },
  {
   "cell_type": "code",
   "execution_count": null,
   "id": "5d10b7a7",
   "metadata": {},
   "outputs": [],
   "source": []
  }
 ],
 "metadata": {
  "kernelspec": {
   "display_name": "Python 3 (ipykernel)",
   "language": "python",
   "name": "python3"
  },
  "language_info": {
   "codemirror_mode": {
    "name": "ipython",
    "version": 3
   },
   "file_extension": ".py",
   "mimetype": "text/x-python",
   "name": "python",
   "nbconvert_exporter": "python",
   "pygments_lexer": "ipython3",
   "version": "3.11.5"
  }
 },
 "nbformat": 4,
 "nbformat_minor": 5
}
