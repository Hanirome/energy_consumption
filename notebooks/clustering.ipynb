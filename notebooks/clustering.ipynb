{
 "cells": [
  {
   "cell_type": "code",
   "execution_count": 7,
   "metadata": {},
   "outputs": [],
   "source": [
    "import pandas as pd\n",
    "import numpy as np\n",
    "import json\n",
    "from datetime import datetime\n",
    "import requests\n",
    "import matplotlib.pyplot as plt\n",
    "from prophet import Prophet\n",
    "from sklearn.metrics import mean_absolute_error\n",
    "from sklearn.cluster import KMeans\n",
    "from sklearn.preprocessing import MinMaxScaler\n",
    "import datetime\n",
    "from sklearn.metrics import silhouette_score\n",
    "from sklearn.cluster import Birch\n"
   ]
  },
  {
   "cell_type": "code",
   "execution_count": 8,
   "metadata": {},
   "outputs": [],
   "source": [
    "excel_file = pd.ExcelFile('../data/EEU11 Final for thesis 2024.xlsx')"
   ]
  },
  {
   "cell_type": "code",
   "execution_count": null,
   "metadata": {},
   "outputs": [
    {
     "name": "stdout",
     "output_type": "stream",
     "text": [
      "['Sheet1']\n"
     ]
    }
   ],
   "source": [
    "sheet_names = excel_file.sheet_names\n",
    "\n",
    "# Print the sheet names\n",
    "print(sheet_names)"
   ]
  },
  {
   "cell_type": "code",
   "execution_count": 9,
   "metadata": {},
   "outputs": [],
   "source": [
    "df = pd.read_excel(\"../data/EEU11 Final for thesis 2024.xlsx\")"
   ]
  },
  {
   "cell_type": "code",
   "execution_count": 10,
   "metadata": {},
   "outputs": [
    {
     "data": {
      "text/html": [
       "<div>\n",
       "<style scoped>\n",
       "    .dataframe tbody tr th:only-of-type {\n",
       "        vertical-align: middle;\n",
       "    }\n",
       "\n",
       "    .dataframe tbody tr th {\n",
       "        vertical-align: top;\n",
       "    }\n",
       "\n",
       "    .dataframe thead th {\n",
       "        text-align: right;\n",
       "    }\n",
       "</style>\n",
       "<table border=\"1\" class=\"dataframe\">\n",
       "  <thead>\n",
       "    <tr style=\"text-align: right;\">\n",
       "      <th></th>\n",
       "      <th>Bill Doc No</th>\n",
       "      <th>KWH SoldMeskrem 2012</th>\n",
       "      <th>KWH Sold Tekmt2012</th>\n",
       "      <th>KWH Sold Hidar 2012</th>\n",
       "      <th>KWH Sold Tahasas 2012</th>\n",
       "      <th>KWH Sold Ter2012</th>\n",
       "      <th>KWH SoldYektit 2012</th>\n",
       "      <th>KWH Sold Megbait2012</th>\n",
       "      <th>KWH Sold Meyzia 2012</th>\n",
       "      <th>KWH Sold Genbot 2012</th>\n",
       "      <th>...</th>\n",
       "      <th>KWH Sold Tahsas 2015</th>\n",
       "      <th>KWH Sold Ter 2015</th>\n",
       "      <th>KWH Sold Yekatit 2015</th>\n",
       "      <th>KWH SoldMegabit 2015</th>\n",
       "      <th>KWH SoldMeyazia2015</th>\n",
       "      <th>KWH Sold Genbot 2015</th>\n",
       "      <th>KWH Sold sene 2015</th>\n",
       "      <th>KWH Sold Hamle2015</th>\n",
       "      <th>KWH Sold Nehase2015</th>\n",
       "      <th>Cluster Label</th>\n",
       "    </tr>\n",
       "  </thead>\n",
       "  <tbody>\n",
       "    <tr>\n",
       "      <th>0</th>\n",
       "      <td>41600280341</td>\n",
       "      <td>373</td>\n",
       "      <td>2260</td>\n",
       "      <td>804</td>\n",
       "      <td>1730</td>\n",
       "      <td>960</td>\n",
       "      <td>1626</td>\n",
       "      <td>861</td>\n",
       "      <td>419</td>\n",
       "      <td>1296</td>\n",
       "      <td>...</td>\n",
       "      <td>2376</td>\n",
       "      <td>745</td>\n",
       "      <td>1312</td>\n",
       "      <td>351</td>\n",
       "      <td>1475</td>\n",
       "      <td>1000</td>\n",
       "      <td>2107</td>\n",
       "      <td>1324</td>\n",
       "      <td>1050</td>\n",
       "      <td>0</td>\n",
       "    </tr>\n",
       "    <tr>\n",
       "      <th>1</th>\n",
       "      <td>42601642814</td>\n",
       "      <td>361</td>\n",
       "      <td>1286</td>\n",
       "      <td>1429</td>\n",
       "      <td>236</td>\n",
       "      <td>1372</td>\n",
       "      <td>1698</td>\n",
       "      <td>642</td>\n",
       "      <td>254</td>\n",
       "      <td>993</td>\n",
       "      <td>...</td>\n",
       "      <td>581</td>\n",
       "      <td>1306</td>\n",
       "      <td>1526</td>\n",
       "      <td>1505</td>\n",
       "      <td>1038</td>\n",
       "      <td>614</td>\n",
       "      <td>411</td>\n",
       "      <td>681</td>\n",
       "      <td>940</td>\n",
       "      <td>0</td>\n",
       "    </tr>\n",
       "    <tr>\n",
       "      <th>2</th>\n",
       "      <td>41200212762</td>\n",
       "      <td>617</td>\n",
       "      <td>1172</td>\n",
       "      <td>1936</td>\n",
       "      <td>1136</td>\n",
       "      <td>2319</td>\n",
       "      <td>894</td>\n",
       "      <td>1972</td>\n",
       "      <td>1747</td>\n",
       "      <td>1982</td>\n",
       "      <td>...</td>\n",
       "      <td>1538</td>\n",
       "      <td>920</td>\n",
       "      <td>608</td>\n",
       "      <td>246</td>\n",
       "      <td>740</td>\n",
       "      <td>2427</td>\n",
       "      <td>1317</td>\n",
       "      <td>175</td>\n",
       "      <td>2368</td>\n",
       "      <td>0</td>\n",
       "    </tr>\n",
       "    <tr>\n",
       "      <th>3</th>\n",
       "      <td>42400388164</td>\n",
       "      <td>1143</td>\n",
       "      <td>236</td>\n",
       "      <td>679</td>\n",
       "      <td>269</td>\n",
       "      <td>1943</td>\n",
       "      <td>609</td>\n",
       "      <td>1190</td>\n",
       "      <td>208</td>\n",
       "      <td>1633</td>\n",
       "      <td>...</td>\n",
       "      <td>901</td>\n",
       "      <td>2336</td>\n",
       "      <td>1753</td>\n",
       "      <td>1221</td>\n",
       "      <td>573</td>\n",
       "      <td>2171</td>\n",
       "      <td>1486</td>\n",
       "      <td>1032</td>\n",
       "      <td>797</td>\n",
       "      <td>0</td>\n",
       "    </tr>\n",
       "    <tr>\n",
       "      <th>4</th>\n",
       "      <td>42600376796</td>\n",
       "      <td>993</td>\n",
       "      <td>1691</td>\n",
       "      <td>1106</td>\n",
       "      <td>1447</td>\n",
       "      <td>1065</td>\n",
       "      <td>913</td>\n",
       "      <td>1681</td>\n",
       "      <td>2189</td>\n",
       "      <td>1021</td>\n",
       "      <td>...</td>\n",
       "      <td>390</td>\n",
       "      <td>838</td>\n",
       "      <td>1148</td>\n",
       "      <td>1166</td>\n",
       "      <td>1053</td>\n",
       "      <td>1182</td>\n",
       "      <td>615</td>\n",
       "      <td>2275</td>\n",
       "      <td>1845</td>\n",
       "      <td>0</td>\n",
       "    </tr>\n",
       "  </tbody>\n",
       "</table>\n",
       "<p>5 rows × 50 columns</p>\n",
       "</div>"
      ],
      "text/plain": [
       "   Bill Doc No  KWH SoldMeskrem 2012  KWH Sold Tekmt2012  KWH Sold Hidar 2012  \\\n",
       "0  41600280341                   373                2260                  804   \n",
       "1  42601642814                   361                1286                 1429   \n",
       "2  41200212762                   617                1172                 1936   \n",
       "3  42400388164                  1143                 236                  679   \n",
       "4  42600376796                   993                1691                 1106   \n",
       "\n",
       "   KWH Sold Tahasas 2012  KWH Sold Ter2012  KWH SoldYektit 2012  \\\n",
       "0                   1730               960                 1626   \n",
       "1                    236              1372                 1698   \n",
       "2                   1136              2319                  894   \n",
       "3                    269              1943                  609   \n",
       "4                   1447              1065                  913   \n",
       "\n",
       "   KWH Sold Megbait2012  KWH Sold Meyzia 2012  KWH Sold Genbot 2012  ...  \\\n",
       "0                   861                   419                  1296  ...   \n",
       "1                   642                   254                   993  ...   \n",
       "2                  1972                  1747                  1982  ...   \n",
       "3                  1190                   208                  1633  ...   \n",
       "4                  1681                  2189                  1021  ...   \n",
       "\n",
       "   KWH Sold Tahsas 2015  KWH Sold Ter 2015  KWH Sold Yekatit 2015  \\\n",
       "0                  2376                745                   1312   \n",
       "1                   581               1306                   1526   \n",
       "2                  1538                920                    608   \n",
       "3                   901               2336                   1753   \n",
       "4                   390                838                   1148   \n",
       "\n",
       "   KWH SoldMegabit 2015  KWH SoldMeyazia2015  KWH Sold Genbot 2015  \\\n",
       "0                   351                 1475                  1000   \n",
       "1                  1505                 1038                   614   \n",
       "2                   246                  740                  2427   \n",
       "3                  1221                  573                  2171   \n",
       "4                  1166                 1053                  1182   \n",
       "\n",
       "   KWH Sold sene 2015  KWH Sold Hamle2015  KWH Sold Nehase2015  Cluster Label  \n",
       "0                2107                1324                 1050              0  \n",
       "1                 411                 681                  940              0  \n",
       "2                1317                 175                 2368              0  \n",
       "3                1486                1032                  797              0  \n",
       "4                 615                2275                 1845              0  \n",
       "\n",
       "[5 rows x 50 columns]"
      ]
     },
     "execution_count": 10,
     "metadata": {},
     "output_type": "execute_result"
    }
   ],
   "source": [
    "df.head()"
   ]
  },
  {
   "cell_type": "code",
   "execution_count": 11,
   "metadata": {},
   "outputs": [],
   "source": [
    "# columns_new = ['Bill Doc No', '28/1/2012', '28/2/2012', '28/3/2012', '28/4/2012',\n",
    "#        '28/5/2012', '28/6/2012', '28/7/2012', '28/8/2012', '28/9/2012',\n",
    "#        '28/10/2012', '28/11/2012', '28/12/2012', '28/1/2013', '28/2/2013',\n",
    "#        '28/3/2013', '28/4/2013', '28/5/2013', '28/6/2013', '28/7/2013',\n",
    "#        '28/8/2013', '28/9/2013', '28/10/2013', '28/11/2013', '28/12/2013',\n",
    "#        '28/1/2014', '28/2/2014', '28/3/2014', '28/4/2014', '28/5/2014',\n",
    "#        '28/6/2014', '28/7/2014', '28/8/2014', '28/9/2014', '28/10/2014',\n",
    "#        '28/11/2014', '28/12/2014', '28/1/2015', '28/2/2015', '28/3/2015',\n",
    "#        '28/4/2015', '28/5/2015', '28/6/2015', '28/7/2015', '28/8/2015',\n",
    "#        '28/9/2015', '28/10/2015', '28/11/2015', '28/12/2015']\n",
    "\n",
    "columns_new = ['Bill Doc No', '2012-01-28', '2012-02-28', '2012-03-28', '2012-04-28', '2012-05-28', '2012-06-28', '2012-07-28', '2012-08-28', '2012-09-28', '2012-10-28', '2012-11-28', '2012-12-28', '2013-01-28', '2013-02-28', '2013-03-28', '2013-04-28', '2013-05-28', '2013-06-28', '2013-07-28', '2013-08-28', '2013-09-28', '2013-10-28', '2013-11-28', '2013-12-28', '2014-01-28', '2014-02-28', '2014-03-28', '2014-04-28', '2014-05-28', '2014-06-28', '2014-07-28', '2014-08-28', '2014-09-28', '2014-10-28', '2014-11-28', '2014-12-28', '2015-01-28', '2015-02-28', '2015-03-28', '2015-04-28', '2015-05-28', '2015-06-28', '2015-07-28', '2015-08-28', '2015-09-28', '2015-10-28', '2015-11-28', '2015-12-28']"
   ]
  },
  {
   "cell_type": "code",
   "execution_count": 12,
   "metadata": {},
   "outputs": [],
   "source": [
    "df.drop(columns=[\"Cluster Label\"], inplace=True)"
   ]
  },
  {
   "cell_type": "code",
   "execution_count": 13,
   "metadata": {},
   "outputs": [],
   "source": [
    "df.columns = columns_new"
   ]
  },
  {
   "cell_type": "code",
   "execution_count": 14,
   "metadata": {},
   "outputs": [
    {
     "data": {
      "text/html": [
       "<div>\n",
       "<style scoped>\n",
       "    .dataframe tbody tr th:only-of-type {\n",
       "        vertical-align: middle;\n",
       "    }\n",
       "\n",
       "    .dataframe tbody tr th {\n",
       "        vertical-align: top;\n",
       "    }\n",
       "\n",
       "    .dataframe thead th {\n",
       "        text-align: right;\n",
       "    }\n",
       "</style>\n",
       "<table border=\"1\" class=\"dataframe\">\n",
       "  <thead>\n",
       "    <tr style=\"text-align: right;\">\n",
       "      <th></th>\n",
       "      <th>Bill Doc No</th>\n",
       "      <th>2012-01-28</th>\n",
       "      <th>2012-02-28</th>\n",
       "      <th>2012-03-28</th>\n",
       "      <th>2012-04-28</th>\n",
       "      <th>2012-05-28</th>\n",
       "      <th>2012-06-28</th>\n",
       "      <th>2012-07-28</th>\n",
       "      <th>2012-08-28</th>\n",
       "      <th>2012-09-28</th>\n",
       "      <th>...</th>\n",
       "      <th>2015-03-28</th>\n",
       "      <th>2015-04-28</th>\n",
       "      <th>2015-05-28</th>\n",
       "      <th>2015-06-28</th>\n",
       "      <th>2015-07-28</th>\n",
       "      <th>2015-08-28</th>\n",
       "      <th>2015-09-28</th>\n",
       "      <th>2015-10-28</th>\n",
       "      <th>2015-11-28</th>\n",
       "      <th>2015-12-28</th>\n",
       "    </tr>\n",
       "  </thead>\n",
       "  <tbody>\n",
       "    <tr>\n",
       "      <th>0</th>\n",
       "      <td>41600280341</td>\n",
       "      <td>373</td>\n",
       "      <td>2260</td>\n",
       "      <td>804</td>\n",
       "      <td>1730</td>\n",
       "      <td>960</td>\n",
       "      <td>1626</td>\n",
       "      <td>861</td>\n",
       "      <td>419</td>\n",
       "      <td>1296</td>\n",
       "      <td>...</td>\n",
       "      <td>1557</td>\n",
       "      <td>2376</td>\n",
       "      <td>745</td>\n",
       "      <td>1312</td>\n",
       "      <td>351</td>\n",
       "      <td>1475</td>\n",
       "      <td>1000</td>\n",
       "      <td>2107</td>\n",
       "      <td>1324</td>\n",
       "      <td>1050</td>\n",
       "    </tr>\n",
       "    <tr>\n",
       "      <th>1</th>\n",
       "      <td>42601642814</td>\n",
       "      <td>361</td>\n",
       "      <td>1286</td>\n",
       "      <td>1429</td>\n",
       "      <td>236</td>\n",
       "      <td>1372</td>\n",
       "      <td>1698</td>\n",
       "      <td>642</td>\n",
       "      <td>254</td>\n",
       "      <td>993</td>\n",
       "      <td>...</td>\n",
       "      <td>2379</td>\n",
       "      <td>581</td>\n",
       "      <td>1306</td>\n",
       "      <td>1526</td>\n",
       "      <td>1505</td>\n",
       "      <td>1038</td>\n",
       "      <td>614</td>\n",
       "      <td>411</td>\n",
       "      <td>681</td>\n",
       "      <td>940</td>\n",
       "    </tr>\n",
       "    <tr>\n",
       "      <th>2</th>\n",
       "      <td>41200212762</td>\n",
       "      <td>617</td>\n",
       "      <td>1172</td>\n",
       "      <td>1936</td>\n",
       "      <td>1136</td>\n",
       "      <td>2319</td>\n",
       "      <td>894</td>\n",
       "      <td>1972</td>\n",
       "      <td>1747</td>\n",
       "      <td>1982</td>\n",
       "      <td>...</td>\n",
       "      <td>2343</td>\n",
       "      <td>1538</td>\n",
       "      <td>920</td>\n",
       "      <td>608</td>\n",
       "      <td>246</td>\n",
       "      <td>740</td>\n",
       "      <td>2427</td>\n",
       "      <td>1317</td>\n",
       "      <td>175</td>\n",
       "      <td>2368</td>\n",
       "    </tr>\n",
       "    <tr>\n",
       "      <th>3</th>\n",
       "      <td>42400388164</td>\n",
       "      <td>1143</td>\n",
       "      <td>236</td>\n",
       "      <td>679</td>\n",
       "      <td>269</td>\n",
       "      <td>1943</td>\n",
       "      <td>609</td>\n",
       "      <td>1190</td>\n",
       "      <td>208</td>\n",
       "      <td>1633</td>\n",
       "      <td>...</td>\n",
       "      <td>604</td>\n",
       "      <td>901</td>\n",
       "      <td>2336</td>\n",
       "      <td>1753</td>\n",
       "      <td>1221</td>\n",
       "      <td>573</td>\n",
       "      <td>2171</td>\n",
       "      <td>1486</td>\n",
       "      <td>1032</td>\n",
       "      <td>797</td>\n",
       "    </tr>\n",
       "    <tr>\n",
       "      <th>4</th>\n",
       "      <td>42600376796</td>\n",
       "      <td>993</td>\n",
       "      <td>1691</td>\n",
       "      <td>1106</td>\n",
       "      <td>1447</td>\n",
       "      <td>1065</td>\n",
       "      <td>913</td>\n",
       "      <td>1681</td>\n",
       "      <td>2189</td>\n",
       "      <td>1021</td>\n",
       "      <td>...</td>\n",
       "      <td>1727</td>\n",
       "      <td>390</td>\n",
       "      <td>838</td>\n",
       "      <td>1148</td>\n",
       "      <td>1166</td>\n",
       "      <td>1053</td>\n",
       "      <td>1182</td>\n",
       "      <td>615</td>\n",
       "      <td>2275</td>\n",
       "      <td>1845</td>\n",
       "    </tr>\n",
       "  </tbody>\n",
       "</table>\n",
       "<p>5 rows × 49 columns</p>\n",
       "</div>"
      ],
      "text/plain": [
       "   Bill Doc No  2012-01-28  2012-02-28  2012-03-28  2012-04-28  2012-05-28  \\\n",
       "0  41600280341         373        2260         804        1730         960   \n",
       "1  42601642814         361        1286        1429         236        1372   \n",
       "2  41200212762         617        1172        1936        1136        2319   \n",
       "3  42400388164        1143         236         679         269        1943   \n",
       "4  42600376796         993        1691        1106        1447        1065   \n",
       "\n",
       "   2012-06-28  2012-07-28  2012-08-28  2012-09-28  ...  2015-03-28  \\\n",
       "0        1626         861         419        1296  ...        1557   \n",
       "1        1698         642         254         993  ...        2379   \n",
       "2         894        1972        1747        1982  ...        2343   \n",
       "3         609        1190         208        1633  ...         604   \n",
       "4         913        1681        2189        1021  ...        1727   \n",
       "\n",
       "   2015-04-28  2015-05-28  2015-06-28  2015-07-28  2015-08-28  2015-09-28  \\\n",
       "0        2376         745        1312         351        1475        1000   \n",
       "1         581        1306        1526        1505        1038         614   \n",
       "2        1538         920         608         246         740        2427   \n",
       "3         901        2336        1753        1221         573        2171   \n",
       "4         390         838        1148        1166        1053        1182   \n",
       "\n",
       "   2015-10-28  2015-11-28  2015-12-28  \n",
       "0        2107        1324        1050  \n",
       "1         411         681         940  \n",
       "2        1317         175        2368  \n",
       "3        1486        1032         797  \n",
       "4         615        2275        1845  \n",
       "\n",
       "[5 rows x 49 columns]"
      ]
     },
     "execution_count": 14,
     "metadata": {},
     "output_type": "execute_result"
    }
   ],
   "source": [
    "df.head()"
   ]
  },
  {
   "cell_type": "code",
   "execution_count": 15,
   "metadata": {},
   "outputs": [],
   "source": [
    "df = df.melt(id_vars='Bill Doc No', var_name='Date', value_name='Amount')\n",
    "\n",
    "# Convert the Date column to datetime format\n",
    "df['Date'] = pd.to_datetime(df['Date'])\n",
    "\n",
    "\n",
    "# Convert the Money column to numeric\n",
    "df['Amount'] = pd.to_numeric(df['Amount'])"
   ]
  },
  {
   "cell_type": "code",
   "execution_count": 16,
   "metadata": {},
   "outputs": [
    {
     "data": {
      "text/html": [
       "<div>\n",
       "<style scoped>\n",
       "    .dataframe tbody tr th:only-of-type {\n",
       "        vertical-align: middle;\n",
       "    }\n",
       "\n",
       "    .dataframe tbody tr th {\n",
       "        vertical-align: top;\n",
       "    }\n",
       "\n",
       "    .dataframe thead th {\n",
       "        text-align: right;\n",
       "    }\n",
       "</style>\n",
       "<table border=\"1\" class=\"dataframe\">\n",
       "  <thead>\n",
       "    <tr style=\"text-align: right;\">\n",
       "      <th></th>\n",
       "      <th>Bill Doc No</th>\n",
       "      <th>Date</th>\n",
       "      <th>Amount</th>\n",
       "    </tr>\n",
       "  </thead>\n",
       "  <tbody>\n",
       "    <tr>\n",
       "      <th>0</th>\n",
       "      <td>41600280341</td>\n",
       "      <td>2012-01-28</td>\n",
       "      <td>373</td>\n",
       "    </tr>\n",
       "    <tr>\n",
       "      <th>1</th>\n",
       "      <td>42601642814</td>\n",
       "      <td>2012-01-28</td>\n",
       "      <td>361</td>\n",
       "    </tr>\n",
       "    <tr>\n",
       "      <th>2</th>\n",
       "      <td>41200212762</td>\n",
       "      <td>2012-01-28</td>\n",
       "      <td>617</td>\n",
       "    </tr>\n",
       "    <tr>\n",
       "      <th>3</th>\n",
       "      <td>42400388164</td>\n",
       "      <td>2012-01-28</td>\n",
       "      <td>1143</td>\n",
       "    </tr>\n",
       "    <tr>\n",
       "      <th>4</th>\n",
       "      <td>42600376796</td>\n",
       "      <td>2012-01-28</td>\n",
       "      <td>993</td>\n",
       "    </tr>\n",
       "  </tbody>\n",
       "</table>\n",
       "</div>"
      ],
      "text/plain": [
       "   Bill Doc No       Date  Amount\n",
       "0  41600280341 2012-01-28     373\n",
       "1  42601642814 2012-01-28     361\n",
       "2  41200212762 2012-01-28     617\n",
       "3  42400388164 2012-01-28    1143\n",
       "4  42600376796 2012-01-28     993"
      ]
     },
     "execution_count": 16,
     "metadata": {},
     "output_type": "execute_result"
    }
   ],
   "source": [
    "df.head()"
   ]
  },
  {
   "cell_type": "code",
   "execution_count": 17,
   "metadata": {},
   "outputs": [],
   "source": [
    "df.to_csv(\"all_bills.csv\", index=False)"
   ]
  },
  {
   "cell_type": "code",
   "execution_count": 18,
   "metadata": {},
   "outputs": [
    {
     "name": "stdout",
     "output_type": "stream",
     "text": [
      "<class 'pandas.core.frame.DataFrame'>\n",
      "RangeIndex: 2428176 entries, 0 to 2428175\n",
      "Data columns (total 3 columns):\n",
      " #   Column       Dtype         \n",
      "---  ------       -----         \n",
      " 0   Bill Doc No  object        \n",
      " 1   Date         datetime64[ns]\n",
      " 2   Amount       int64         \n",
      "dtypes: datetime64[ns](1), int64(1), object(1)\n",
      "memory usage: 55.6+ MB\n"
     ]
    }
   ],
   "source": [
    "df.info()"
   ]
  },
  {
   "cell_type": "code",
   "execution_count": 19,
   "metadata": {},
   "outputs": [
    {
     "data": {
      "text/html": [
       "<div>\n",
       "<style scoped>\n",
       "    .dataframe tbody tr th:only-of-type {\n",
       "        vertical-align: middle;\n",
       "    }\n",
       "\n",
       "    .dataframe tbody tr th {\n",
       "        vertical-align: top;\n",
       "    }\n",
       "\n",
       "    .dataframe thead th {\n",
       "        text-align: right;\n",
       "    }\n",
       "</style>\n",
       "<table border=\"1\" class=\"dataframe\">\n",
       "  <thead>\n",
       "    <tr style=\"text-align: right;\">\n",
       "      <th></th>\n",
       "      <th>Bill Doc No</th>\n",
       "      <th>Date</th>\n",
       "      <th>Amount</th>\n",
       "    </tr>\n",
       "  </thead>\n",
       "  <tbody>\n",
       "    <tr>\n",
       "      <th>0</th>\n",
       "      <td>41600280341</td>\n",
       "      <td>2012-01-28</td>\n",
       "      <td>373</td>\n",
       "    </tr>\n",
       "    <tr>\n",
       "      <th>1</th>\n",
       "      <td>42601642814</td>\n",
       "      <td>2012-01-28</td>\n",
       "      <td>361</td>\n",
       "    </tr>\n",
       "    <tr>\n",
       "      <th>2</th>\n",
       "      <td>41200212762</td>\n",
       "      <td>2012-01-28</td>\n",
       "      <td>617</td>\n",
       "    </tr>\n",
       "    <tr>\n",
       "      <th>3</th>\n",
       "      <td>42400388164</td>\n",
       "      <td>2012-01-28</td>\n",
       "      <td>1143</td>\n",
       "    </tr>\n",
       "    <tr>\n",
       "      <th>4</th>\n",
       "      <td>42600376796</td>\n",
       "      <td>2012-01-28</td>\n",
       "      <td>993</td>\n",
       "    </tr>\n",
       "    <tr>\n",
       "      <th>...</th>\n",
       "      <td>...</td>\n",
       "      <td>...</td>\n",
       "      <td>...</td>\n",
       "    </tr>\n",
       "    <tr>\n",
       "      <th>2428171</th>\n",
       "      <td>10404551255</td>\n",
       "      <td>2015-12-28</td>\n",
       "      <td>1827</td>\n",
       "    </tr>\n",
       "    <tr>\n",
       "      <th>2428172</th>\n",
       "      <td>10285104882</td>\n",
       "      <td>2015-12-28</td>\n",
       "      <td>1249</td>\n",
       "    </tr>\n",
       "    <tr>\n",
       "      <th>2428173</th>\n",
       "      <td>10245464219</td>\n",
       "      <td>2015-12-28</td>\n",
       "      <td>1614</td>\n",
       "    </tr>\n",
       "    <tr>\n",
       "      <th>2428174</th>\n",
       "      <td>10202778694</td>\n",
       "      <td>2015-12-28</td>\n",
       "      <td>1046</td>\n",
       "    </tr>\n",
       "    <tr>\n",
       "      <th>2428175</th>\n",
       "      <td>10087585927</td>\n",
       "      <td>2015-12-28</td>\n",
       "      <td>1596</td>\n",
       "    </tr>\n",
       "  </tbody>\n",
       "</table>\n",
       "<p>2425248 rows × 3 columns</p>\n",
       "</div>"
      ],
      "text/plain": [
       "         Bill Doc No       Date  Amount\n",
       "0        41600280341 2012-01-28     373\n",
       "1        42601642814 2012-01-28     361\n",
       "2        41200212762 2012-01-28     617\n",
       "3        42400388164 2012-01-28    1143\n",
       "4        42600376796 2012-01-28     993\n",
       "...              ...        ...     ...\n",
       "2428171  10404551255 2015-12-28    1827\n",
       "2428172  10285104882 2015-12-28    1249\n",
       "2428173  10245464219 2015-12-28    1614\n",
       "2428174  10202778694 2015-12-28    1046\n",
       "2428175  10087585927 2015-12-28    1596\n",
       "\n",
       "[2425248 rows x 3 columns]"
      ]
     },
     "execution_count": 19,
     "metadata": {},
     "output_type": "execute_result"
    }
   ],
   "source": [
    "df.drop_duplicates(subset=[\"Bill Doc No\", \"Date\"])"
   ]
  },
  {
   "cell_type": "code",
   "execution_count": 20,
   "metadata": {},
   "outputs": [
    {
     "data": {
      "text/plain": [
       "37452758622    96\n",
       "96005562893    96\n",
       "68381195346    96\n",
       "82193130377    96\n",
       "52974455903    96\n",
       "               ..\n",
       "41011334586    48\n",
       "41011334587    48\n",
       "41011334638    48\n",
       "41011334639    48\n",
       "10087585927    48\n",
       "Name: Bill Doc No, Length: 50526, dtype: int64"
      ]
     },
     "execution_count": 20,
     "metadata": {},
     "output_type": "execute_result"
    }
   ],
   "source": [
    "df[\"Bill Doc No\"].value_counts()"
   ]
  },
  {
   "cell_type": "code",
   "execution_count": 21,
   "metadata": {},
   "outputs": [],
   "source": [
    "df = df[df[\"Bill Doc No\"] != \"Bill Doc No\"]"
   ]
  },
  {
   "cell_type": "code",
   "execution_count": 22,
   "metadata": {},
   "outputs": [],
   "source": [
    "df_agg = df.groupby(\"Bill Doc No\").agg({\"Amount\": \"mean\"}).reset_index()"
   ]
  },
  {
   "cell_type": "code",
   "execution_count": 23,
   "metadata": {},
   "outputs": [
    {
     "data": {
      "text/html": [
       "<div>\n",
       "<style scoped>\n",
       "    .dataframe tbody tr th:only-of-type {\n",
       "        vertical-align: middle;\n",
       "    }\n",
       "\n",
       "    .dataframe tbody tr th {\n",
       "        vertical-align: top;\n",
       "    }\n",
       "\n",
       "    .dataframe thead th {\n",
       "        text-align: right;\n",
       "    }\n",
       "</style>\n",
       "<table border=\"1\" class=\"dataframe\">\n",
       "  <thead>\n",
       "    <tr style=\"text-align: right;\">\n",
       "      <th></th>\n",
       "      <th>Bill Doc No</th>\n",
       "      <th>Amount</th>\n",
       "    </tr>\n",
       "  </thead>\n",
       "  <tbody>\n",
       "    <tr>\n",
       "      <th>0</th>\n",
       "      <td>10000260282</td>\n",
       "      <td>1370.062500</td>\n",
       "    </tr>\n",
       "    <tr>\n",
       "      <th>1</th>\n",
       "      <td>10000260631</td>\n",
       "      <td>1070.937500</td>\n",
       "    </tr>\n",
       "    <tr>\n",
       "      <th>2</th>\n",
       "      <td>10000260663</td>\n",
       "      <td>1349.208333</td>\n",
       "    </tr>\n",
       "    <tr>\n",
       "      <th>3</th>\n",
       "      <td>10000260693</td>\n",
       "      <td>1290.479167</td>\n",
       "    </tr>\n",
       "    <tr>\n",
       "      <th>4</th>\n",
       "      <td>10000261128</td>\n",
       "      <td>1306.020833</td>\n",
       "    </tr>\n",
       "    <tr>\n",
       "      <th>...</th>\n",
       "      <td>...</td>\n",
       "      <td>...</td>\n",
       "    </tr>\n",
       "    <tr>\n",
       "      <th>50520</th>\n",
       "      <td>99984754015</td>\n",
       "      <td>1340.125000</td>\n",
       "    </tr>\n",
       "    <tr>\n",
       "      <th>50521</th>\n",
       "      <td>99985563314</td>\n",
       "      <td>1094.375000</td>\n",
       "    </tr>\n",
       "    <tr>\n",
       "      <th>50522</th>\n",
       "      <td>99991476511</td>\n",
       "      <td>1256.666667</td>\n",
       "    </tr>\n",
       "    <tr>\n",
       "      <th>50523</th>\n",
       "      <td>99994599202</td>\n",
       "      <td>1245.833333</td>\n",
       "    </tr>\n",
       "    <tr>\n",
       "      <th>50524</th>\n",
       "      <td>99995696135</td>\n",
       "      <td>1518.354167</td>\n",
       "    </tr>\n",
       "  </tbody>\n",
       "</table>\n",
       "<p>50525 rows × 2 columns</p>\n",
       "</div>"
      ],
      "text/plain": [
       "       Bill Doc No       Amount\n",
       "0      10000260282  1370.062500\n",
       "1      10000260631  1070.937500\n",
       "2      10000260663  1349.208333\n",
       "3      10000260693  1290.479167\n",
       "4      10000261128  1306.020833\n",
       "...            ...          ...\n",
       "50520  99984754015  1340.125000\n",
       "50521  99985563314  1094.375000\n",
       "50522  99991476511  1256.666667\n",
       "50523  99994599202  1245.833333\n",
       "50524  99995696135  1518.354167\n",
       "\n",
       "[50525 rows x 2 columns]"
      ]
     },
     "execution_count": 23,
     "metadata": {},
     "output_type": "execute_result"
    }
   ],
   "source": [
    "df_agg"
   ]
  },
  {
   "cell_type": "markdown",
   "metadata": {},
   "source": [
    "### Kmeans"
   ]
  },
  {
   "cell_type": "code",
   "execution_count": 24,
   "metadata": {},
   "outputs": [
    {
     "data": {
      "image/png": "[encoded data removed]",
      "text/plain": [
       "<Figure size 640x480 with 1 Axes>"
      ]
     },
     "metadata": {},
     "output_type": "display_data"
    }
   ],
   "source": [
    "wcss = []\n",
    "for i in range(1,11):\n",
    "    kmeans = KMeans(init=\"k-means++\", n_clusters=i)\n",
    "    kmeans.fit(df_agg[[\"Amount\"]])\n",
    "    wcss.append(kmeans.inertia_)\n",
    "plt.plot(range(1,11), wcss)\n",
    "plt.title(\"Elbow method\")\n",
    "plt.xlabel(\"Number of clusters\")\n",
    "plt.ylabel(\"wcss\")\n",
    "plt.show()"
   ]
  },
  {
   "cell_type": "code",
   "execution_count": 25,
   "metadata": {},
   "outputs": [
    {
     "data": {
      "text/plain": [
       "KMeans(n_clusters=3)"
      ]
     },
     "execution_count": 25,
     "metadata": {},
     "output_type": "execute_result"
    }
   ],
   "source": [
    "kmeans = KMeans(init=\"k-means++\", n_clusters=3)\n",
    "kmeans.fit(df_agg[[\"Amount\"]])"
   ]
  },
  {
   "cell_type": "code",
   "execution_count": 26,
   "metadata": {},
   "outputs": [
    {
     "data": {
      "text/plain": [
       "0.9259178770294629"
      ]
     },
     "execution_count": 26,
     "metadata": {},
     "output_type": "execute_result"
    }
   ],
   "source": [
    "labels = kmeans.predict(df_agg[[\"Amount\"]])\n",
    "silhouette_score(df_agg[[\"Amount\"]], labels=labels)"
   ]
  },
  {
   "cell_type": "code",
   "execution_count": 27,
   "metadata": {},
   "outputs": [
    {
     "name": "stderr",
     "output_type": "stream",
     "text": [
      "/home/sam/Documents/projects/practice/fastapi/fastapi/lib/python3.7/site-packages/sklearn/base.py:451: UserWarning: X does not have valid feature names, but KMeans was fitted with feature names\n",
      "  \"X does not have valid feature names, but\"\n"
     ]
    },
    {
     "data": {
      "text/plain": [
       "array([0], dtype=int32)"
      ]
     },
     "execution_count": 27,
     "metadata": {},
     "output_type": "execute_result"
    }
   ],
   "source": [
    "kmeans.predict([[1500]])"
   ]
  },
  {
   "cell_type": "code",
   "execution_count": 28,
   "metadata": {},
   "outputs": [
    {
     "name": "stdout",
     "output_type": "stream",
     "text": [
      "[0]\n"
     ]
    },
    {
     "name": "stderr",
     "output_type": "stream",
     "text": [
      "/home/sam/Documents/projects/practice/fastapi/fastapi/lib/python3.7/site-packages/sklearn/base.py:451: UserWarning: X does not have valid feature names, but KMeans was fitted with feature names\n",
      "  \"X does not have valid feature names, but\"\n"
     ]
    }
   ],
   "source": [
    "import pickle\n",
    "# Save the model to a file\n",
    "with open('kmeans_model.pkl', 'wb') as f:\n",
    "    pickle.dump(kmeans, f)\n",
    "\n",
    "# Load the model from the file\n",
    "with open('kmeans_model.pkl', 'rb') as f:\n",
    "    kmeans = pickle.load(f)\n",
    "\n",
    "# Predict against a single value\n",
    "single_value = [2000]\n",
    "predicted_cluster = kmeans.predict([single_value])\n",
    "print(predicted_cluster)"
   ]
  },
  {
   "cell_type": "markdown",
   "metadata": {},
   "source": [
    "### BiRCH"
   ]
  },
  {
   "cell_type": "code",
   "execution_count": 29,
   "metadata": {},
   "outputs": [
    {
     "data": {
      "text/plain": [
       "0.9259178770294629"
      ]
     },
     "execution_count": 29,
     "metadata": {},
     "output_type": "execute_result"
    }
   ],
   "source": [
    "# Creating the BIRCH clustering model\n",
    "brc = Birch(branching_factor=50, \n",
    "                    n_clusters=3, \n",
    "                    threshold=1)\n",
    "brc.fit(df_agg[[\"Amount\"]])\n",
    "labels = brc.labels_\n",
    "silhouette_score(df_agg[[\"Amount\"]], labels=labels)\n"
   ]
  },
  {
   "cell_type": "code",
   "execution_count": 30,
   "metadata": {},
   "outputs": [],
   "source": [
    "import pickle\n",
    "# Save the model to a file\n",
    "with open('../birch_model.pkl', 'wb') as f:\n",
    "    pickle.dump(brc, f)"
   ]
  },
  {
   "cell_type": "code",
   "execution_count": null,
   "metadata": {},
   "outputs": [],
   "source": []
  }
 ],
 "metadata": {
  "kernelspec": {
   "display_name": "fastapi",
   "language": "python",
   "name": "python3"
  },
  "language_info": {
   "codemirror_mode": {
    "name": "ipython",
    "version": 3
   },
   "file_extension": ".py",
   "mimetype": "text/x-python",
   "name": "python",
   "nbconvert_exporter": "python",
   "pygments_lexer": "ipython3",
   "version": "3.7.6"
  }
 },
 "nbformat": 4,
 "nbformat_minor": 2
}
